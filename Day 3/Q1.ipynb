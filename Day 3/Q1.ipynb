{
  "nbformat": 4,
  "nbformat_minor": 0,
  "metadata": {
    "colab": {
      "name": "Q1.ipynb",
      "provenance": []
    },
    "kernelspec": {
      "name": "python3",
      "display_name": "Python 3"
    }
  },
  "cells": [
    {
      "cell_type": "code",
      "metadata": {
        "id": "aca5srTUlT-e",
        "colab_type": "code",
        "colab": {
          "base_uri": "https://localhost:8080/",
          "height": 52
        },
        "outputId": "6681a3ce-dcd4-4c42-c7c4-e2d84bb733ec"
      },
      "source": [
        "\n",
        "alt= input(\"Enter any altitude - \")\n",
        "\n",
        "alt = int(alt)\n",
        "if alt<1000:\n",
        "   print('Safe to land')\n",
        "elif alt>1000 and alt<4500:\n",
        "   print('Bring down to 1000')\n",
        "else:\n",
        "   print('Turn Around')"
      ],
      "execution_count": 3,
      "outputs": [
        {
          "output_type": "stream",
          "text": [
            "Enter any altitude - 4200\n",
            "Bring down to 1000\n"
          ],
          "name": "stdout"
        }
      ]
    }
  ]
}