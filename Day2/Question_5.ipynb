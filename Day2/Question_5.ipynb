{
  "nbformat": 4,
  "nbformat_minor": 0,
  "metadata": {
    "colab": {
      "name": "Question 5.ipynb",
      "provenance": []
    },
    "kernelspec": {
      "name": "python3",
      "display_name": "Python 3"
    }
  },
  "cells": [
    {
      "cell_type": "code",
      "metadata": {
        "id": "Cb2ZAvuhchu0",
        "colab_type": "code",
        "colab": {
          "base_uri": "https://localhost:8080/",
          "height": 34
        },
        "outputId": "6f4416ab-eca6-4652-c5fb-fafbf24df09b"
      },
      "source": [
        "#CAPITALIZE FIRST LETTERB IN A STRING\n",
        "text = \"hello\"\n",
        "x = text.capitalize()\n",
        "print (x)"
      ],
      "execution_count": 1,
      "outputs": [
        {
          "output_type": "stream",
          "text": [
            "Hello\n"
          ],
          "name": "stdout"
        }
      ]
    },
    {
      "cell_type": "code",
      "metadata": {
        "id": "6nso2s0Edda9",
        "colab_type": "code",
        "colab": {
          "base_uri": "https://localhost:8080/",
          "height": 34
        },
        "outputId": "2c6996f1-15f3-430a-f15e-6ecdcf1647d1"
      },
      "source": [
        "#TEXT ALIGN AT CENTER\n",
        "txt = \"banana\"\n",
        "x = txt.center(20)\n",
        "print(x)"
      ],
      "execution_count": 2,
      "outputs": [
        {
          "output_type": "stream",
          "text": [
            "       banana       \n"
          ],
          "name": "stdout"
        }
      ]
    },
    {
      "cell_type": "code",
      "metadata": {
        "id": "pfyGKZq3ddZh",
        "colab_type": "code",
        "colab": {
          "base_uri": "https://localhost:8080/",
          "height": 34
        },
        "outputId": "bae976f0-13e0-4b9d-a3e2-caf7734c08a9"
      },
      "source": [
        "#TEXT INDEX\n",
        "txt = \"Hello, welcome to my world.\"\n",
        "x = txt.index(\"welcome\")\n",
        "print(x)"
      ],
      "execution_count": 3,
      "outputs": [
        {
          "output_type": "stream",
          "text": [
            "7\n"
          ],
          "name": "stdout"
        }
      ]
    },
    {
      "cell_type": "code",
      "metadata": {
        "id": "uX_fPg5cddYJ",
        "colab_type": "code",
        "colab": {
          "base_uri": "https://localhost:8080/",
          "height": 34
        },
        "outputId": "54553196-2c70-4314-c6ec-0b48a7535cd1"
      },
      "source": [
        "#TEXT SPLIT\n",
        "txt = \"welcome to the jungle\"\n",
        "x = txt.split()\n",
        "print(x)\n"
      ],
      "execution_count": 4,
      "outputs": [
        {
          "output_type": "stream",
          "text": [
            "['welcome', 'to', 'the', 'jungle']\n"
          ],
          "name": "stdout"
        }
      ]
    }
  ]
}